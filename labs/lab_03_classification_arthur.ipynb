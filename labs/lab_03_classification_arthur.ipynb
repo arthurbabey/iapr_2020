{
 "cells": [
  {
   "cell_type": "markdown",
   "metadata": {},
   "source": [
    "# [IAPR 2020:][iapr2020] Lab 3 ‒  Classification\n",
    "\n",
    "**Author:** first_name_1 last_name_1, first_name_2 last_name_2, first_name_3 last_name_3  \n",
    "**Due date:** 08.05.2020\n",
    "\n",
    "[iapr2018]: https://github.com/LTS5/iapr-2018"
   ]
  },
  {
   "cell_type": "markdown",
   "metadata": {},
   "source": [
    "## Extract relevant data\n",
    "We first need to extract the `lab-03-data.tar.gz` archive.\n",
    "To this end, we use the [tarfile] module from the Python standard library.\n",
    "\n",
    "[tarfile]: https://docs.python.org/3.6/library/tarfile.html"
   ]
  },
  {
   "cell_type": "code",
   "execution_count": 1,
   "metadata": {},
   "outputs": [],
   "source": [
    "import tarfile\n",
    "import os\n",
    "\n",
    "data_base_path = os.path.join(os.pardir, 'data')\n",
    "data_folder = 'lab-03-data'\n",
    "tar_path = os.path.join(data_base_path, data_folder + '.tar.gz')\n",
    "with tarfile.open(tar_path, mode='r:gz') as tar:\n",
    "    tar.extractall(path=data_base_path)"
   ]
  },
  {
   "cell_type": "markdown",
   "metadata": {},
   "source": [
    "## Part 1\n",
    "In this part, we will study classification based on the data available in the Matlab file `classification.mat` that you will under `lab-03-data/part1`.\n",
    "There are 3 data sets in this file, each one being a training set for a given class.\n",
    "They are contained in variables `a`, `b` and `c`.\n",
    "\n",
    "**Note**: we can load Matlab files using the [scipy.io] module.\n",
    "\n",
    "[scipy.io]: https://docs.scipy.org/doc/scipy/reference/io.html"
   ]
  },
  {
   "cell_type": "code",
   "execution_count": 2,
   "metadata": {},
   "outputs": [
    {
     "name": "stdout",
     "output_type": "stream",
     "text": [
      "(200, 2) (200, 2) (200, 2)\n"
     ]
    }
   ],
   "source": [
    "import scipy.io\n",
    "\n",
    "data_part1_path = os.path.join(data_base_path, data_folder, 'part1', 'classification.mat')\n",
    "matfile = scipy.io.loadmat(data_part1_path)\n",
    "a = matfile['a']\n",
    "b = matfile['b']\n",
    "c = matfile['c']\n",
    "\n",
    "print(a.shape, b.shape, c.shape)"
   ]
  },
  {
   "cell_type": "markdown",
   "metadata": {},
   "source": [
    "### 1.1 Bayes method\n",
    "Using the Bayes method, give the analytical expression of the separation curves between those three classes.\n",
    "Do reasonable hypotheses about the distributions of those classes and estimate the corresponding parameters based on the given training sets.\n",
    "Draw those curves on a plot, together with the training data.\n",
    "For simplicity reasons, round the estimated parameters to the closest integer value.\n",
    "\n",
    "*Add your implementation and discussion*"
   ]
  },
  {
   "cell_type": "markdown",
   "metadata": {},
   "source": [
    "### 1.2 Mahalanobis distance\n",
    "For classes `a` and `b`, give the expression of the Mahalanobis distance used to classify a point in class `a` or `b`, and verify the obtained classification, in comparison with the \"complete\" Bayes classification, for a few points of the plane.\n",
    "\n",
    "*Add your implementation and discussion*"
   ]
  },
  {
   "cell_type": "markdown",
   "metadata": {},
   "source": [
    "## Part 2\n",
    "In this part, we aim to classify digits using the complete version of MNIST digits dataset.\n",
    "The dataset consists of 60'000 training images and 10'000 test images of handwritten digits.\n",
    "Each image has size 28x28, and has assigned a label from zero to nine, denoting the digits value.\n",
    "Given this data, your task is to construct a Multilayer Perceptron (MLP) for supervised training and classification and evaluate it on the test images.\n",
    "\n",
    "Download the MNIST dataset (all 4 files) from http://yann.lecun.com/exdb/mnist/ under `lab-03-data/part2`.\n",
    "You can then use the script provided below to extract and load training and testing images in Python.\n",
    "\n",
    "To create an MLP you are free to choose any library.\n",
    "In case you don't have any preferences, we encourage you to use the [scikit-learn] package; it is a simple, efficient and free tool for data analysis and machine learning.\n",
    "In this [link][sklearn-example], you can find a basic example to see how to create and train an MLP using [scikit-learn].\n",
    "Your network should have the following properties:\n",
    "* Input `x`: 784-dimensional (i.e. 784 visible units representing the flattened 28x28 pixel images).\n",
    "* 100 hidden units `h`.\n",
    "* 10 output units `y`, i.e. the labels, with a value close to one in the i-th class representing a high probability of the input representing the digit `i`.\n",
    "\n",
    "If you need additional examples you can borrow some code from image classification tutorials.\n",
    "However, we recommend that you construct a minimal version of the network on your own to gain better insights.\n",
    "\n",
    "[scikit-learn]: http://scikit-learn.org/stable/index.html\n",
    "[sklearn-example]: http://scikit-learn.org/stable/modules/neural_networks_supervised.html"
   ]
  },
  {
   "cell_type": "markdown",
   "metadata": {},
   "source": [
    "### 2.1 Dataset loading\n",
    "Here we first declare the methods `extract_data` and `extract_labels` so that we can reuse them later in the code.\n",
    "Then we extract both the data and corresponding labels, and plot randomly some images and corresponding labels of the training set."
   ]
  },
  {
   "cell_type": "code",
   "execution_count": 5,
   "metadata": {},
   "outputs": [],
   "source": [
    "import gzip\n",
    "import numpy as np\n",
    "import matplotlib.pyplot as plt\n",
    "\n",
    "def extract_data(filename, image_shape, image_number):\n",
    "    with gzip.open(filename) as bytestream:\n",
    "        bytestream.read(16)\n",
    "        buf = bytestream.read(np.prod(image_shape) * image_number)\n",
    "        data = np.frombuffer(buf, dtype=np.uint8).astype(np.float32)\n",
    "        data = data.reshape(image_number, image_shape[0], image_shape[1])\n",
    "    return data\n",
    "\n",
    "\n",
    "def extract_labels(filename, image_number):\n",
    "    with gzip.open(filename) as bytestream:\n",
    "        bytestream.read(8)\n",
    "        buf = bytestream.read(1 * image_number)\n",
    "        labels = np.frombuffer(buf, dtype=np.uint8).astype(np.int64)\n",
    "    return labels"
   ]
  },
  {
   "cell_type": "code",
   "execution_count": 6,
   "metadata": {},
   "outputs": [],
   "source": [
    "image_shape = (28, 28)\n",
    "train_set_size = 60000\n",
    "test_set_size = 10000\n",
    "\n",
    "data_part2_folder = os.path.join(data_base_path, data_folder, 'part2')\n",
    "\n",
    "train_images_path = os.path.join(data_part2_folder, 'train-images-idx3-ubyte.gz')\n",
    "train_labels_path = os.path.join(data_part2_folder, 'train-labels-idx1-ubyte.gz')\n",
    "test_images_path = os.path.join(data_part2_folder, 't10k-images-idx3-ubyte.gz')\n",
    "test_labels_path = os.path.join(data_part2_folder, 't10k-labels-idx1-ubyte.gz')\n",
    "\n",
    "train_images = extract_data(train_images_path, image_shape, train_set_size)\n",
    "test_images = extract_data(test_images_path, image_shape, test_set_size)\n",
    "train_labels = extract_labels(train_labels_path, train_set_size)\n",
    "test_labels = extract_labels(test_labels_path, test_set_size)"
   ]
  },
  {
   "cell_type": "code",
   "execution_count": 7,
   "metadata": {},
   "outputs": [
    {
     "data": {
      "image/png": "[encoded data removed]",
      "text/plain": [
       "<Figure size 864x216 with 10 Axes>"
      ]
     },
     "metadata": {
      "needs_background": "light"
     },
     "output_type": "display_data"
    }
   ],
   "source": [
    "prng = np.random.RandomState(seed=123456789)  # seed to always re-draw the same distribution\n",
    "plt_ind = prng.randint(low=0, high=train_set_size, size=10)\n",
    "\n",
    "fig, axes = plt.subplots(1, 10, figsize=(12, 3))\n",
    "for ax, im, lb in zip(axes, train_images[plt_ind], train_labels[plt_ind]):\n",
    "    ax.imshow(im, cmap='gray')\n",
    "    ax.axis('off')\n",
    "    ax.set_title(lb)"
   ]
  },
  {
   "cell_type": "markdown",
   "metadata": {},
   "source": [
    "### 2.2 MLP\n",
    "*Add your implementation and discussion*"
   ]
  },
  {
   "cell_type": "code",
   "execution_count": 35,
   "metadata": {},
   "outputs": [],
   "source": [
    "import keras\n",
    "from keras.models import Sequential\n",
    "from keras.layers import Dense, Dropout\n",
    "from keras.optimizers import RMSprop, Adam\n",
    "import numpy as np"
   ]
  },
  {
   "cell_type": "code",
   "execution_count": 36,
   "metadata": {},
   "outputs": [
    {
     "name": "stdout",
     "output_type": "stream",
     "text": [
      "60000 train samples\n",
      "10000 test samples\n"
     ]
    }
   ],
   "source": [
    "x_train = train_images.reshape(train_images.shape[0], 28*28)\n",
    "x_test = test_images.reshape(test_images.shape[0], 28*28)\n",
    "y_train = train_labels\n",
    "y_test = test_labels\n",
    "\n",
    "x_train = x_train.astype('float32')\n",
    "x_test = x_test.astype('float32')\n",
    "x_train /= 255\n",
    "x_test /= 255\n",
    "y_train = keras.utils.to_categorical(y_train, num_classes)\n",
    "y_test = keras.utils.to_categorical(y_test, num_classes)\n",
    "\n",
    "print(x_train.shape[0], 'train samples')\n",
    "print(x_test.shape[0], 'test samples')"
   ]
  },
  {
   "cell_type": "code",
   "execution_count": 37,
   "metadata": {},
   "outputs": [
    {
     "name": "stdout",
     "output_type": "stream",
     "text": [
      "Model: \"sequential_6\"\n",
      "_________________________________________________________________\n",
      "Layer (type)                 Output Shape              Param #   \n",
      "=================================================================\n",
      "dense_11 (Dense)             (None, 100)               78500     \n",
      "_________________________________________________________________\n",
      "dense_12 (Dense)             (None, 10)                1010      \n",
      "=================================================================\n",
      "Total params: 79,510\n",
      "Trainable params: 79,510\n",
      "Non-trainable params: 0\n",
      "_________________________________________________________________\n"
     ]
    }
   ],
   "source": [
    "model.summary()"
   ]
  },
  {
   "cell_type": "code",
   "execution_count": 24,
   "metadata": {
    "scrolled": true
   },
   "outputs": [
    {
     "name": "stdout",
     "output_type": "stream",
     "text": [
      "WARNING:tensorflow:From /anaconda3/lib/python3.7/site-packages/keras/backend/tensorflow_backend.py:422: The name tf.global_variables is deprecated. Please use tf.compat.v1.global_variables instead.\n",
      "\n",
      "Train on 60000 samples, validate on 10000 samples\n",
      "Epoch 1/20\n",
      "60000/60000 [==============================] - 8s 126us/step - loss: 0.2475 - accuracy: 0.9236 - val_loss: 0.1222 - val_accuracy: 0.9630\n",
      "Epoch 2/20\n",
      "60000/60000 [==============================] - 7s 124us/step - loss: 0.1045 - accuracy: 0.9680 - val_loss: 0.1032 - val_accuracy: 0.9701\n",
      "Epoch 3/20\n",
      "60000/60000 [==============================] - 8s 132us/step - loss: 0.0749 - accuracy: 0.9778 - val_loss: 0.0732 - val_accuracy: 0.9783\n",
      "Epoch 4/20\n",
      "60000/60000 [==============================] - 7s 124us/step - loss: 0.0605 - accuracy: 0.9824 - val_loss: 0.0746 - val_accuracy: 0.9785\n",
      "Epoch 5/20\n",
      "60000/60000 [==============================] - 7s 121us/step - loss: 0.0498 - accuracy: 0.9853 - val_loss: 0.0770 - val_accuracy: 0.9804\n",
      "Epoch 6/20\n",
      "60000/60000 [==============================] - 7s 122us/step - loss: 0.0437 - accuracy: 0.9871 - val_loss: 0.0741 - val_accuracy: 0.9820\n",
      "Epoch 7/20\n",
      "60000/60000 [==============================] - 7s 124us/step - loss: 0.0395 - accuracy: 0.9883 - val_loss: 0.0867 - val_accuracy: 0.9806\n",
      "Epoch 8/20\n",
      "60000/60000 [==============================] - 8s 125us/step - loss: 0.0338 - accuracy: 0.9898 - val_loss: 0.0861 - val_accuracy: 0.9817\n",
      "Epoch 9/20\n",
      "60000/60000 [==============================] - 7s 123us/step - loss: 0.0321 - accuracy: 0.9905 - val_loss: 0.0929 - val_accuracy: 0.9798\n",
      "Epoch 10/20\n",
      "60000/60000 [==============================] - 7s 124us/step - loss: 0.0293 - accuracy: 0.9916 - val_loss: 0.0910 - val_accuracy: 0.9814\n",
      "Epoch 11/20\n",
      "60000/60000 [==============================] - 7s 123us/step - loss: 0.0287 - accuracy: 0.9920 - val_loss: 0.0977 - val_accuracy: 0.9796\n",
      "Epoch 12/20\n",
      "60000/60000 [==============================] - 8s 131us/step - loss: 0.0262 - accuracy: 0.9923 - val_loss: 0.1038 - val_accuracy: 0.9817\n",
      "Epoch 13/20\n",
      "60000/60000 [==============================] - 7s 124us/step - loss: 0.0241 - accuracy: 0.9937 - val_loss: 0.1182 - val_accuracy: 0.9801\n",
      "Epoch 14/20\n",
      "60000/60000 [==============================] - 8s 125us/step - loss: 0.0252 - accuracy: 0.9929 - val_loss: 0.1062 - val_accuracy: 0.9826\n",
      "Epoch 15/20\n",
      "60000/60000 [==============================] - 7s 125us/step - loss: 0.0226 - accuracy: 0.9940 - val_loss: 0.1032 - val_accuracy: 0.9847\n",
      "Epoch 16/20\n",
      "60000/60000 [==============================] - 8s 128us/step - loss: 0.0212 - accuracy: 0.9939 - val_loss: 0.1145 - val_accuracy: 0.9828\n",
      "Epoch 17/20\n",
      "60000/60000 [==============================] - 7s 124us/step - loss: 0.0191 - accuracy: 0.9949 - val_loss: 0.1121 - val_accuracy: 0.9849\n",
      "Epoch 18/20\n",
      "60000/60000 [==============================] - 7s 124us/step - loss: 0.0193 - accuracy: 0.9949 - val_loss: 0.1067 - val_accuracy: 0.9848\n",
      "Epoch 19/20\n",
      "60000/60000 [==============================] - 7s 123us/step - loss: 0.0188 - accuracy: 0.9951 - val_loss: 0.1053 - val_accuracy: 0.9853\n",
      "Epoch 20/20\n",
      "60000/60000 [==============================] - 7s 125us/step - loss: 0.0191 - accuracy: 0.9951 - val_loss: 0.1153 - val_accuracy: 0.9839\n",
      "Test loss: 0.11530490445021885\n",
      "Test accuracy: 0.9839000105857849\n"
     ]
    }
   ],
   "source": [
    "model.compile(loss='categorical_crossentropy',\n",
    "              optimizer=Adam(),\n",
    "              metrics=['accuracy'])\n",
    "\n",
    "history = model.fit(x_train, y_train,\n",
    "                    batch_size=batch_size,\n",
    "                    epochs=epochs,\n",
    "                    verbose=1,\n",
    "                    validation_data=(x_test, y_test))\n",
    "score = model.evaluate(x_test, y_test, verbose=0)\n",
    "print('Test loss:', score[0])\n",
    "print('Test accuracy:', score[1])"
   ]
  },
  {
   "cell_type": "markdown",
   "metadata": {},
   "source": [
    "Model with a relu activation on the hidden layer"
   ]
  },
  {
   "cell_type": "code",
   "execution_count": 44,
   "metadata": {},
   "outputs": [],
   "source": [
    "model = Sequential()\n",
    "model.add(Dense(100, activation='relu', input_shape=(784,)))\n",
    "model.add(Dense(num_classes, activation='softmax'))"
   ]
  },
  {
   "cell_type": "code",
   "execution_count": 45,
   "metadata": {
    "scrolled": true
   },
   "outputs": [
    {
     "name": "stdout",
     "output_type": "stream",
     "text": [
      "Train on 60000 samples, validate on 10000 samples\n",
      "Epoch 1/20\n",
      " - 3s - loss: 0.3093 - accuracy: 0.9121 - val_loss: 0.1607 - val_accuracy: 0.9528\n",
      "Epoch 2/20\n",
      " - 3s - loss: 0.1415 - accuracy: 0.9596 - val_loss: 0.1282 - val_accuracy: 0.9624\n",
      "Epoch 3/20\n",
      " - 3s - loss: 0.1022 - accuracy: 0.9699 - val_loss: 0.1032 - val_accuracy: 0.9707\n",
      "Epoch 4/20\n",
      " - 3s - loss: 0.0795 - accuracy: 0.9765 - val_loss: 0.0934 - val_accuracy: 0.9727\n",
      "Epoch 5/20\n",
      " - 3s - loss: 0.0635 - accuracy: 0.9810 - val_loss: 0.0933 - val_accuracy: 0.9715\n",
      "Epoch 6/20\n",
      " - 3s - loss: 0.0520 - accuracy: 0.9849 - val_loss: 0.0860 - val_accuracy: 0.9736\n",
      "Epoch 7/20\n",
      " - 3s - loss: 0.0433 - accuracy: 0.9872 - val_loss: 0.0733 - val_accuracy: 0.9777\n",
      "Epoch 8/20\n",
      " - 3s - loss: 0.0350 - accuracy: 0.9895 - val_loss: 0.0822 - val_accuracy: 0.9755\n",
      "Epoch 9/20\n",
      " - 3s - loss: 0.0287 - accuracy: 0.9917 - val_loss: 0.0874 - val_accuracy: 0.9742\n",
      "Epoch 10/20\n",
      " - 3s - loss: 0.0252 - accuracy: 0.9930 - val_loss: 0.0825 - val_accuracy: 0.9754\n",
      "Epoch 11/20\n",
      " - 3s - loss: 0.0207 - accuracy: 0.9942 - val_loss: 0.0790 - val_accuracy: 0.9777\n",
      "Epoch 12/20\n",
      " - 3s - loss: 0.0169 - accuracy: 0.9953 - val_loss: 0.0791 - val_accuracy: 0.9773\n",
      "Epoch 13/20\n",
      " - 4s - loss: 0.0154 - accuracy: 0.9955 - val_loss: 0.0867 - val_accuracy: 0.9758\n",
      "Epoch 14/20\n",
      " - 4s - loss: 0.0116 - accuracy: 0.9970 - val_loss: 0.0928 - val_accuracy: 0.9757\n",
      "Epoch 15/20\n",
      " - 4s - loss: 0.0117 - accuracy: 0.9966 - val_loss: 0.0843 - val_accuracy: 0.9774\n",
      "Epoch 16/20\n",
      " - 4s - loss: 0.0087 - accuracy: 0.9980 - val_loss: 0.0936 - val_accuracy: 0.9758\n",
      "Epoch 17/20\n",
      " - 4s - loss: 0.0086 - accuracy: 0.9978 - val_loss: 0.0856 - val_accuracy: 0.9769\n",
      "Epoch 18/20\n",
      " - 4s - loss: 0.0080 - accuracy: 0.9976 - val_loss: 0.0930 - val_accuracy: 0.9763\n",
      "Epoch 19/20\n",
      " - 4s - loss: 0.0059 - accuracy: 0.9986 - val_loss: 0.0909 - val_accuracy: 0.9774\n",
      "Epoch 20/20\n",
      " - 4s - loss: 0.0047 - accuracy: 0.9989 - val_loss: 0.0993 - val_accuracy: 0.9757\n",
      "Test loss: 0.0992856136472783\n",
      "Test accuracy: 0.9757000207901001\n"
     ]
    }
   ],
   "source": [
    "batch_size = 60\n",
    "num_classes = 10\n",
    "epochs = 20\n",
    "\n",
    "model.compile(loss='categorical_crossentropy',\n",
    "              optimizer=Adam(),\n",
    "              metrics=['accuracy'])\n",
    "\n",
    "history = model.fit(x_train, y_train,\n",
    "                    batch_size=batch_size,\n",
    "                    epochs=epochs,\n",
    "                    verbose=2,\n",
    "                    validation_data=(x_test, y_test))\n",
    "score = model.evaluate(x_test, y_test, verbose=0)\n",
    "print('Test loss:', score[0])\n",
    "print('Test accuracy:', score[1])"
   ]
  },
  {
   "cell_type": "markdown",
   "metadata": {},
   "source": [
    "Model withou any activation function"
   ]
  },
  {
   "cell_type": "code",
   "execution_count": 46,
   "metadata": {},
   "outputs": [],
   "source": [
    "model = Sequential()\n",
    "model.add(Dense(100, activation=None, input_shape=(784,)))\n",
    "model.add(Dense(num_classes, activation='softmax'))"
   ]
  },
  {
   "cell_type": "code",
   "execution_count": null,
   "metadata": {},
   "outputs": [
    {
     "name": "stdout",
     "output_type": "stream",
     "text": [
      "Train on 60000 samples, validate on 10000 samples\n",
      "Epoch 1/20\n",
      " - 4s - loss: 0.3706 - accuracy: 0.8955 - val_loss: 0.2844 - val_accuracy: 0.9207\n",
      "Epoch 2/20\n",
      " - 3s - loss: 0.2924 - accuracy: 0.9181 - val_loss: 0.2892 - val_accuracy: 0.9227\n",
      "Epoch 3/20\n",
      " - 3s - loss: 0.2807 - accuracy: 0.9208 - val_loss: 0.2845 - val_accuracy: 0.9207\n",
      "Epoch 4/20\n",
      " - 3s - loss: 0.2745 - accuracy: 0.9237 - val_loss: 0.2768 - val_accuracy: 0.9220\n",
      "Epoch 5/20\n",
      " - 3s - loss: 0.2697 - accuracy: 0.9246 - val_loss: 0.2814 - val_accuracy: 0.9246\n",
      "Epoch 6/20\n",
      " - 3s - loss: 0.2668 - accuracy: 0.9257 - val_loss: 0.2831 - val_accuracy: 0.9237\n",
      "Epoch 7/20\n",
      " - 3s - loss: 0.2628 - accuracy: 0.9265 - val_loss: 0.2770 - val_accuracy: 0.9220\n",
      "Epoch 8/20\n",
      " - 3s - loss: 0.2627 - accuracy: 0.9258 - val_loss: 0.2816 - val_accuracy: 0.9209\n",
      "Epoch 9/20\n",
      " - 3s - loss: 0.2591 - accuracy: 0.9283 - val_loss: 0.2882 - val_accuracy: 0.9205\n",
      "Epoch 10/20\n",
      " - 3s - loss: 0.2584 - accuracy: 0.9277 - val_loss: 0.2755 - val_accuracy: 0.9243\n",
      "Epoch 11/20\n",
      " - 4s - loss: 0.2571 - accuracy: 0.9283 - val_loss: 0.2802 - val_accuracy: 0.9235\n",
      "Epoch 12/20\n"
     ]
    }
   ],
   "source": [
    "batch_size = 60\n",
    "num_classes = 10\n",
    "epochs = 20\n",
    "\n",
    "model.compile(loss='categorical_crossentropy',\n",
    "              optimizer=Adam(),\n",
    "              metrics=['accuracy'])\n",
    "\n",
    "history = model.fit(x_train, y_train,\n",
    "                    batch_size=batch_size,\n",
    "                    epochs=epochs,\n",
    "                    verbose=2,\n",
    "                    validation_data=(x_test, y_test))\n",
    "score = model.evaluate(x_test, y_test, verbose=0)\n",
    "print('Test loss:', score[0])\n",
    "print('Test accuracy:', score[1])"
   ]
  },
  {
   "cell_type": "code",
   "execution_count": null,
   "metadata": {},
   "outputs": [],
   "source": []
  }
 ],
 "metadata": {
  "kernelspec": {
   "display_name": "Python 3",
   "language": "python",
   "name": "python3"
  },
  "language_info": {
   "codemirror_mode": {
    "name": "ipython",
    "version": 3
   },
   "file_extension": ".py",
   "mimetype": "text/x-python",
   "name": "python",
   "nbconvert_exporter": "python",
   "pygments_lexer": "ipython3",
   "version": "3.6.5"
  }
 },
 "nbformat": 4,
 "nbformat_minor": 2
}
